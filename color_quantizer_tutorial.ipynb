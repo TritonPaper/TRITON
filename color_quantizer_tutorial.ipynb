{
 "cells": [
  {
   "cell_type": "markdown",
   "id": "8d185553-e85a-4024-abbb-8b84dde4ae5d",
   "metadata": {
    "tags": []
   },
   "source": [
    "# Imports and Setup"
   ]
  },
  {
   "cell_type": "markdown",
   "id": "fea8e6b4-2646-477f-8fcb-efbbe0586933",
   "metadata": {
    "tags": []
   },
   "source": [
    "## Imports"
   ]
  },
  {
   "cell_type": "code",
   "execution_count": null,
   "id": "a617ec93-dd5b-4a4a-9daf-782088c20d86",
   "metadata": {
    "tags": []
   },
   "outputs": [],
   "source": [
    "#This notebook tests the following two functions:\n",
    "from source.color_quantizer import quantize_image, quantize_images"
   ]
  },
  {
   "cell_type": "code",
   "execution_count": null,
   "id": "d4eb702a-b89d-4ffe-b2de-704466d29b02",
   "metadata": {
    "tags": []
   },
   "outputs": [],
   "source": [
    "import rp\n",
    "import torch\n",
    "import icecream\n",
    "import numpy as np"
   ]
  },
  {
   "cell_type": "markdown",
   "id": "33d24faa-7b1b-48fb-853e-a2df30a9536f",
   "metadata": {
    "tags": []
   },
   "source": [
    "## Config"
   ]
  },
  {
   "cell_type": "code",
   "execution_count": null,
   "id": "05ccbc01-18cc-4fb8-bd23-989d96adac93",
   "metadata": {
    "tags": []
   },
   "outputs": [],
   "source": [
    "%config InlineBackend.figure_format='retina'\n",
    "\n",
    "#Make the pixels of Jupyter-displayed images \n",
    "# use nearest-neigbor interpolation\n",
    "from IPython.core.display import display, HTML\n",
    "display(HTML(\"\"\"\n",
    "<style>\n",
    "img {\n",
    "  image-rendering: auto;\n",
    "  image-rendering: crisp-edges;\n",
    "  image-rendering: pixelated;\n",
    "}\n",
    "</style>\n",
    "\"\"\"));"
   ]
  },
  {
   "cell_type": "code",
   "execution_count": null,
   "id": "548f5c71-106f-4d5e-bb0e-833eb7e9554b",
   "metadata": {
    "tags": []
   },
   "outputs": [],
   "source": [
    "device = torch.device(\"cuda\" if torch.cuda.is_available() else \"cpu\")\n",
    "device = torch.device(\"cpu\") #Uses less VRAM so we can train while running this notebook\n",
    "\n",
    "icecream.ic(device);"
   ]
  },
  {
   "cell_type": "code",
   "execution_count": null,
   "id": "91353c9e-db4c-4fef-85ab-b0cf5f1009af",
   "metadata": {},
   "outputs": [],
   "source": [
    "def display_image(image):\n",
    "    image = rp.as_numpy_image(image)\n",
    "    rp.display_image(image)\n",
    "    \n",
    "def display_images(images):\n",
    "    images = rp.as_numpy_images(images)\n",
    "    rp.display_image(rp.tiled_images(images))"
   ]
  },
  {
   "cell_type": "markdown",
   "id": "204a8332-cacf-490d-9d3d-913bfa18f6e4",
   "metadata": {
    "tags": []
   },
   "source": [
    "# Other Stuff"
   ]
  },
  {
   "cell_type": "code",
   "execution_count": null,
   "id": "e127005b-dcb1-4ca8-a614-f35908ac56b7",
   "metadata": {},
   "outputs": [],
   "source": [
    "target_image_choices={}\n",
    "\n",
    "target_image_choices['fox'      ] = 'https://live.staticflickr.com/7492/15677707699_d9d67acf9d_b.jpg'\n",
    "target_image_choices['magikarp' ] = 'https://static.pokemonpets.com/images/monsters-images-300-300/129-Magikarp.webp'\n",
    "target_image_choices['makeup'   ] = 'https://i.redd.it/vxvs3dgsbxw31.png'\n",
    "target_image_choices['snowflake'] = 'https://2s7gjr373w3x22jf92z99mgm5w-wpengine.netdna-ssl.com/wp-content/uploads/2020/11/snowflake_shutterstock_kichigin.jpg'\n",
    "target_image_choices['portal'   ] = 'https://static.wikia.nocookie.net/half-life/images/9/9d/Atlas_P-body_fhp2.jpg/revision/latest?cb=20110519013122&path-prefix=en'\n",
    "\n",
    "def display_target_images():\n",
    "    target_labels, target_images = zip(*target_image_choices.items())\n",
    "    target_images = [rp.load_image(image) for image in target_images]\n",
    "    target_images = [rp.cv_resize_image(image,(128,128)) for image in target_images]\n",
    "    target_images = rp.labeled_images(target_images, target_labels)\n",
    "    target_images = rp.tiled_images(target_images)\n",
    "    target_images = rp.labeled_image(target_images, \"Choices\", size=30)\n",
    "    rp.display_image(target_images)\n",
    "\n",
    "def load_target_image(target_image:str):\n",
    "    target_image = rp.load_image    (target_image, use_cache=True)\n",
    "    target_image = rp.as_float_image(target_image)\n",
    "    target_image = rp.as_rgb_image  (target_image)\n",
    "    target_image = rp.crop_image    (target_image, target_height, target_width, origin='center')\n",
    "    target_image = target_image.copy()\n",
    "    return target_image\n",
    "\n",
    "display_target_images()"
   ]
  },
  {
   "cell_type": "code",
   "execution_count": null,
   "id": "28a850b4-101e-4afc-92ed-43e7470c27ea",
   "metadata": {},
   "outputs": [],
   "source": [
    "target_image_choice = 'makeup'"
   ]
  },
  {
   "cell_type": "code",
   "execution_count": null,
   "id": "b596ab43-3fe5-461f-a390-563cff16f510",
   "metadata": {},
   "outputs": [],
   "source": [
    "target_image_url    = target_image_choices[target_image_choice]\n",
    "target_image = rp.load_image(target_image_url)\n",
    "\n",
    "target_image=rp.as_rgb_image(target_image)\n",
    "target_image=rp.as_float_image(target_image)\n",
    "\n",
    "rp.display_image(target_image)\n",
    "icecream.ic(target_image.shape,target_image.max(),target_image.min(),target_image.dtype);"
   ]
  },
  {
   "cell_type": "code",
   "execution_count": null,
   "id": "83e7faec-7fcc-4ace-a516-d7e794c71263",
   "metadata": {},
   "outputs": [],
   "source": [
    "target_image = rp.as_torch_image(target_image).to(device)"
   ]
  },
  {
   "cell_type": "code",
   "execution_count": null,
   "id": "27e009bc-cab5-4c99-ac78-6931d6452352",
   "metadata": {},
   "outputs": [],
   "source": [
    "colors = [[0,0,0], [1,.5,0], [1,1,1],  [1,0,0], [1,0,.5]]\n",
    "\n",
    "def solid_color_image(color, height=128, width=128):\n",
    "    white_image  = np.ones((height,width,3))\n",
    "    color        = np.asarray(color)\n",
    "    color_image  = white_image * color[None,None]\n",
    "    label        = str(color)\n",
    "    color_image  = rp.labeled_image(color_image, label, size=20)\n",
    "    return color_image\n",
    "\n",
    "rp.display_image(\n",
    "    rp.labeled_image(\n",
    "        rp.horizontally_concatenated_images(\n",
    "            [solid_color_image(color) for color in colors]\n",
    "        ),\n",
    "        \"Color Pallette\",\n",
    "        size=30\n",
    "    )\n",
    ")\n",
    "    \n",
    "colors = torch.tensor(colors).to(device)"
   ]
  },
  {
   "cell_type": "code",
   "execution_count": null,
   "id": "454a333d-663c-4d36-b6e5-4fbaa2049ff3",
   "metadata": {},
   "outputs": [],
   "source": [
    "display_image(quantize_image(target_image, colors))"
   ]
  },
  {
   "cell_type": "code",
   "execution_count": null,
   "id": "d43eae15-c977-4767-a24e-7ab5cc60454b",
   "metadata": {},
   "outputs": [],
   "source": [
    "batch = rp.load_images(target_image_choices.values())\n",
    "batch = [rp.cv_resize_image(image, (256,256)) for image in batch]\n",
    "batch = [rp.as_float_image(rp.as_rgb_image(image)) for image in batch]\n",
    "batch = rp.as_numpy_array (batch)\n",
    "batch = rp.as_torch_images(batch)\n",
    "\n",
    "print(\"Original Images:\")\n",
    "display_images(batch)\n",
    "\n",
    "quantized_batch = quantize_images(batch, colors)\n",
    "\n",
    "print(\"Quantized Images:\")\n",
    "display_images(quantized_batch)"
   ]
  },
  {
   "cell_type": "code",
   "execution_count": null,
   "id": "4daac339-6abe-4622-8e83-873b17c47229",
   "metadata": {},
   "outputs": [],
   "source": [
    "#Correctness Check\n",
    "gradient_image=np.ones((512,512))*np.linspace(0,1,512)\n",
    "rp.display_image(gradient_image)\n",
    "\n",
    "palette=torch.tensor([[0],[.5],[1]])\n",
    "\n",
    "quantized_gradient_image=gradient_image\n",
    "quantized_gradient_image=torch.tensor(quantized_gradient_image)[None].float()\n",
    "quantized_gradient_image=quantize_image(quantized_gradient_image,palette)\n",
    "\n",
    "rp.display_image(rp.as_numpy_array(quantized_gradient_image)[0])"
   ]
  }
 ],
 "metadata": {
  "kernelspec": {
   "display_name": "Python 3",
   "language": "python",
   "name": "python3"
  },
  "language_info": {
   "codemirror_mode": {
    "name": "ipython",
    "version": 3
   },
   "file_extension": ".py",
   "mimetype": "text/x-python",
   "name": "python",
   "nbconvert_exporter": "python",
   "pygments_lexer": "ipython3",
   "version": "3.9.7"
  }
 },
 "nbformat": 4,
 "nbformat_minor": 5
}
