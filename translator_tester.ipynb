{
 "cells": [
  {
   "cell_type": "markdown",
   "id": "c8bbcef5-4358-46b6-9c19-155c9bace134",
   "metadata": {},
   "source": [
    "# Setup"
   ]
  },
  {
   "cell_type": "markdown",
   "id": "98261340-20d7-48df-bbab-d9ca3119ce6e",
   "metadata": {},
   "source": [
    "## Imports"
   ]
  },
  {
   "cell_type": "code",
   "execution_count": null,
   "id": "bb523b0e-9b01-438c-bc86-986d082ac929",
   "metadata": {
    "scene__JustVid": true,
    "tags": [
     "ActiveScene"
    ]
   },
   "outputs": [],
   "source": [
    "import sys\n",
    "import icecream\n",
    "import torch\n",
    "import rp"
   ]
  },
  {
   "cell_type": "code",
   "execution_count": null,
   "id": "afbc48c6-3f4e-4cb9-8deb-5b1f2d5fbc9f",
   "metadata": {},
   "outputs": [],
   "source": [
    "rp.pip_import('lpips') # https://pypi.org/project/lpips/\n",
    "import lpips"
   ]
  },
  {
   "cell_type": "code",
   "execution_count": null,
   "id": "6d84a330-6a18-4f78-84ba-fb5210f514fb",
   "metadata": {
    "cellView": "form",
    "colab": {},
    "colab_type": "code",
    "id": "QDs4Im9WTQoy",
    "scene__JustVid": true,
    "tags": [
     "ActiveScene"
    ]
   },
   "outputs": [],
   "source": [
    "sys.path.append('./translator')\n",
    "from translator.easy_translator import EasyTranslator\n",
    "from translator.pytorch_msssim import numpy_msssim"
   ]
  },
  {
   "cell_type": "code",
   "execution_count": null,
   "id": "17bb7ce7-1dd5-4cb4-8d43-2ef4acb13d08",
   "metadata": {
    "scene__JustVid": true,
    "tags": [
     "ActiveScene"
    ]
   },
   "outputs": [],
   "source": [
    "from IPython.display import clear_output\n",
    "from IPython.display import Video"
   ]
  },
  {
   "cell_type": "markdown",
   "id": "edaa85a3-b966-4ce5-8c1f-90e59f7e6b72",
   "metadata": {},
   "source": [
    "## Other Setup"
   ]
  },
  {
   "cell_type": "code",
   "execution_count": null,
   "id": "8be09caf-f560-481e-82f0-881dee44f267",
   "metadata": {},
   "outputs": [],
   "source": [
    "device = torch.device('cuda' if torch.cuda.is_available() else 'cpu')\n",
    "# devuce = 'cpu'\n",
    "torch.cuda.set_device(0) #Choose a free GPU"
   ]
  },
  {
   "cell_type": "code",
   "execution_count": null,
   "id": "80c206b5-ac5c-43af-8f62-800da87b35a5",
   "metadata": {},
   "outputs": [],
   "source": [
    "%matplotlib inline\n",
    "%config InlineBackend.figure_format='retina'"
   ]
  },
  {
   "cell_type": "markdown",
   "id": "b3c90e85-0b30-463b-ab23-f465fc5b6678",
   "metadata": {},
   "source": [
    "# Load Trainer/Data/Config"
   ]
  },
  {
   "cell_type": "code",
   "execution_count": null,
   "id": "80f7bfe5-566a-4445-9e87-6c61c52bc377",
   "metadata": {},
   "outputs": [],
   "source": [
    "VERSION_NAME = 'alphabet_three_base__just_tex_reality__run0'\n",
    "\n",
    "label_values = [0,75,150,255]\n",
    "\n",
    "scene_folder_path = '/home/Anonymous/CleanCode/Datasets/diff_rendering/alphabet_three/test/test_uvl/UV_Label_Exr'"
   ]
  },
  {
   "cell_type": "code",
   "execution_count": null,
   "id": "458cda8a-551b-42ad-88f8-da4479daeaf7",
   "metadata": {},
   "outputs": [],
   "source": [
    "def get_translator(version_name):\n",
    "    checkpoint_folder = './translator/trained_models/outputs/%s/checkpoints'%version_name\n",
    "    config_file       = './translator/configs/%s.yaml'%version_name\n",
    "    \n",
    "    return EasyTranslator(label_values, checkpoint_folder, config_file, device)\n",
    "\n",
    "#Since these are in inference mode, they shouldn't take much VRAM - we can have two at once\n",
    "translator = get_translator(VERSION_NAME)\n",
    "\n",
    "#Does this make it faster when running multiple times?\n",
    "translator.translate = rp.memoized(translator.translate)"
   ]
  },
  {
   "cell_type": "code",
   "execution_count": null,
   "id": "6e224c02-e27a-4728-ad62-1740ed0bc24d",
   "metadata": {},
   "outputs": [],
   "source": [
    "scene_images = rp.ImageDataset(scene_folder_path)"
   ]
  },
  {
   "cell_type": "code",
   "execution_count": null,
   "id": "1e4dcc32-3b2b-468c-ae47-87c4b5ecd30e",
   "metadata": {},
   "outputs": [],
   "source": [
    "icecream.ic(\n",
    "    len(scene_images),\n",
    ")\n",
    "\n",
    "length = len(scene_images)"
   ]
  },
  {
   "cell_type": "code",
   "execution_count": null,
   "id": "9882a3e1-c738-4367-b1ba-21d37175c6bc",
   "metadata": {},
   "outputs": [],
   "source": [
    "loss_fn_alex = lpips.LPIPS(net='alex')\n",
    "def perceptual_loss(img1, img2):\n",
    "    img1 = rp.as_float_image(rp.as_rgb_image(img1))\n",
    "    img2 = rp.as_float_image(rp.as_rgb_image(img2))\n",
    "    \n",
    "    img1 = img1*2-1 # [0,1] -> [-1,1]\n",
    "    img2 = img2*2-1 # [0,1] -> [-1,1]\n",
    "    \n",
    "    img1 = rp.as_torch_image(img1)[None]\n",
    "    img2 = rp.as_torch_image(img2)[None]\n",
    "    \n",
    "    return float(loss_fn_alex(img1, img2))"
   ]
  },
  {
   "cell_type": "code",
   "execution_count": null,
   "id": "e87a9071-b4a1-417d-b26a-4fe4ccad3290",
   "metadata": {
    "tags": []
   },
   "outputs": [],
   "source": [
    "class Result:\n",
    "    def __init__(self, index):\n",
    "        \n",
    "        scene_image = rp.as_float_image(scene_images[index])\n",
    "\n",
    "        translation = translator.translate(scene_image)\n",
    "\n",
    "        self.scene_image = scene_image\n",
    "        self.translation = translation\n",
    "        \n",
    "        self.output_frame = translation"
   ]
  },
  {
   "cell_type": "code",
   "execution_count": null,
   "id": "2ef68812-80a5-454d-bec7-8df295637f99",
   "metadata": {
    "tags": []
   },
   "outputs": [],
   "source": [
    "index = rp.random_index(length)\n",
    "rp.display_image(Result(index).output_frame)"
   ]
  },
  {
   "cell_type": "code",
   "execution_count": null,
   "id": "94c4eaaa-6eca-470c-9375-05c1884d65cb",
   "metadata": {},
   "outputs": [],
   "source": [
    "output_folder = rp.path_join('untracked','TEST_OUT__'+VERSION_NAME)\n",
    "rp.make_directory(output_folder)"
   ]
  },
  {
   "cell_type": "code",
   "execution_count": null,
   "id": "8f353291-9906-4c18-9b3f-7a7c2fef75ae",
   "metadata": {},
   "outputs": [],
   "source": [
    "all_files = rp.get_all_files(scene_folder_path)\n",
    "all_files = [rp.path_join(scene_folder_path,x) for x in sorted(rp.os.listdir(scene_folder_path))]\n",
    "all_files.sort()\n",
    "display_eta = rp.eta(len(all_files))\n",
    "for i,path in enumerate(all_files):\n",
    "    image=rp.load_image(path)\n",
    "    image=rp.as_float_image(image)\n",
    "    translated=translator.translate(image)\n",
    "    path_name=rp.get_file_name(path,False)\n",
    "    output_name=path_name+'.png'\n",
    "    output_path=rp.path_join(output_folder,output_name)\n",
    "    rp.save_image(translated,output_path)\n",
    "    display_eta(i)\n",
    "    # print(output_path)"
   ]
  },
  {
   "cell_type": "code",
   "execution_count": null,
   "id": "b281708c-0384-43ec-abf4-ec6cdf473e37",
   "metadata": {},
   "outputs": [],
   "source": []
  }
 ],
 "metadata": {
  "kernelspec": {
   "display_name": "Python 3 (ipykernel)",
   "language": "python",
   "name": "python3"
  },
  "language_info": {
   "codemirror_mode": {
    "name": "ipython",
    "version": 3
   },
   "file_extension": ".py",
   "mimetype": "text/x-python",
   "name": "python",
   "nbconvert_exporter": "python",
   "pygments_lexer": "ipython3",
   "version": "3.8.10"
  },
  "scenes_data": {
   "active_scene": "JustVid",
   "init_scene": null,
   "scenes": [
    "Default Scene",
    "JustVid"
   ]
  }
 },
 "nbformat": 4,
 "nbformat_minor": 5
}
